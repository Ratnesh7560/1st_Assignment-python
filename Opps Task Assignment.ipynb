{
 "cells": [
  {
   "cell_type": "code",
   "execution_count": 1,
   "id": "2e1b2a4d-cbc2-4c4c-a25a-eb9838f6f078",
   "metadata": {},
   "outputs": [],
   "source": [
    "#Q1, Create a vehicle class with an init method having instance variables as name_of_vehicle, max_speed\n",
    "#and average_of_vehicle.\n",
    "\n",
    "class Vehicle:\n",
    "    def __init__(self, name_of_vehicle, max_speed, average_of_vehicle):\n",
    "        self.name_of_vehicle = name_of_vehicle\n",
    "        self.max_speed = max_speed\n",
    "        self.average_of_vehicle = average_of_vehicle\n",
    "        \n",
    "        \n",
    "    def return_car_details(self):\n",
    "        return self.name_of_vehicle, self.max_speed, self.average_of_vehicle"
   ]
  },
  {
   "cell_type": "code",
   "execution_count": 2,
   "id": "435c6deb-2b39-4eb7-8c1c-183b5d535596",
   "metadata": {},
   "outputs": [],
   "source": [
    "car = Vehicle(\"BMW\", 500, 50)"
   ]
  },
  {
   "cell_type": "code",
   "execution_count": 3,
   "id": "c4e48e84-9dd8-47b8-a30f-ef09c693c4d6",
   "metadata": {},
   "outputs": [
    {
     "data": {
      "text/plain": [
       "('BMW', 500, 50)"
      ]
     },
     "execution_count": 3,
     "metadata": {},
     "output_type": "execute_result"
    }
   ],
   "source": [
    "car.return_car_details()"
   ]
  },
  {
   "cell_type": "code",
   "execution_count": 13,
   "id": "fedcce50-2518-49fc-ae14-e85d4b1c349b",
   "metadata": {},
   "outputs": [],
   "source": [
    "#Q2. Create a child class car from the vehicle class created in Que 1, which will inherit the vehicle class.\n",
    "#Create a method named seating_capacity which takes capacity as an argument and returns the name of\n",
    "#the vehicle and its seating capacity.\n",
    "\n",
    "class car(Vehicle):\n",
    "    def seating_capacity(self , capacity):\n",
    "        return f\"{self.name_of_vehicle} has a seating capacity of {capacity} people.\""
   ]
  },
  {
   "cell_type": "code",
   "execution_count": 14,
   "id": "c14fa84b-b851-4149-8203-dc357776cc0a",
   "metadata": {},
   "outputs": [
    {
     "name": "stdout",
     "output_type": "stream",
     "text": [
      "BMW has a seating capacity of 4 people.\n"
     ]
    }
   ],
   "source": [
    "car = car(\"BMW\" , 500 ,50)\n",
    "print(car.seating_capacity(4))"
   ]
  },
  {
   "cell_type": "code",
   "execution_count": 26,
   "id": "ebc16599-7bd7-4fcc-95dc-6035d6449173",
   "metadata": {},
   "outputs": [
    {
     "name": "stdout",
     "output_type": "stream",
     "text": [
      "this is method 1 from parent 1.\n",
      "this is method 2 from parent 2.\n",
      "this is method 3 from child.\n"
     ]
    }
   ],
   "source": [
    "#Q3. What is multiple inheritance? Write a python code to demonstrate multiple inheritance.\n",
    "\n",
    "# parent class 1\n",
    "\n",
    "class parent1:\n",
    "    def method1(self):\n",
    "        print(\"this is method 1 from parent 1.\")\n",
    "\n",
    "# parent class 2\n",
    "\n",
    "class parent2:\n",
    "    def method2(self):\n",
    "        print(\"this is method 2 from parent 2.\")\n",
    "        \n",
    "# Derived class inheriting from parent 1 and parent 2\n",
    "\n",
    "class child(parent1 , parent2):\n",
    "    def method3(self):\n",
    "        print(\"this is method 3 from child.\")\n",
    "        \n",
    "# create an instance of the child class\n",
    "\n",
    "obj = child()\n",
    "\n",
    "# Access methods from parent 1\n",
    "\n",
    "obj.method1()\n",
    "\n",
    "# Access method from child\n",
    "\n",
    "obj.method2()\n",
    "\n",
    "# Access method from child\n",
    "\n",
    "obj.method3()"
   ]
  },
  {
   "cell_type": "code",
   "execution_count": 7,
   "id": "4ea08d24-547c-4093-98c0-2874de68d676",
   "metadata": {},
   "outputs": [],
   "source": [
    "#Q4. What are getter and setter in python? Create a class and create a getter and a setter method in this\n",
    "#class.\n",
    "\n",
    "# Answe  : - Getter: A method that allows you to access an attribute in a given class. \n",
    "#        :-  Setter: A method that allows you to set or mutate the value of an attribute in a class.\n",
    "\n",
    "\n",
    "class myclass:\n",
    "    def __init__(self):\n",
    "        self._my_attribute = \"none\"\n",
    "        \n",
    "    def get_my_attribute(self):\n",
    "        return self._my_attribute\n",
    "    \n",
    "    def set_my_attribute(self, value):\n",
    "        self._my_attribute = value"
   ]
  },
  {
   "cell_type": "code",
   "execution_count": 12,
   "id": "9b260efb-c400-4d2f-89d8-4375c5f3476a",
   "metadata": {},
   "outputs": [
    {
     "name": "stdout",
     "output_type": "stream",
     "text": [
      "none\n",
      "ratnesh\n"
     ]
    }
   ],
   "source": [
    "obj = myclass()\n",
    "print(obj.get_my_attribute())\n",
    "\n",
    "obj.set_my_attribute(\"ratnesh\")\n",
    "print(obj.get_my_attribute())"
   ]
  },
  {
   "cell_type": "code",
   "execution_count": 13,
   "id": "aec3efd5-88a1-4bf5-ad81-f8fb7a571f46",
   "metadata": {},
   "outputs": [
    {
     "name": "stdout",
     "output_type": "stream",
     "text": [
      "The animal makes a sound.\n",
      "Meow!\n",
      "Woof!\n"
     ]
    }
   ],
   "source": [
    "#Q5.What is method overriding in python? Write a python code to demonstrate method overriding.\n",
    "\n",
    "class Animal:\n",
    "    def speak(self):\n",
    "        print(\"The animal makes a sound.\")\n",
    "\n",
    "class Cat(Animal):\n",
    "    def speak(self):\n",
    "        print(\"Meow!\")\n",
    "\n",
    "class Dog(Animal):\n",
    "    def speak(self):\n",
    "        print(\"Woof!\")\n",
    "\n",
    "# Creating instances of the classes\n",
    "animal = Animal()\n",
    "cat = Cat()\n",
    "dog = Dog()\n",
    "\n",
    "# Calling the overridden methods\n",
    "animal.speak()  # Output: The animal makes a sound.\n",
    "cat.speak()  # Output: Meow!\n",
    "dog.speak()  # Output: Woof!"
   ]
  },
  {
   "cell_type": "code",
   "execution_count": null,
   "id": "0528289a-a9d7-4e9d-99e6-a21614d43a4e",
   "metadata": {},
   "outputs": [],
   "source": []
  }
 ],
 "metadata": {
  "kernelspec": {
   "display_name": "Python 3 (ipykernel)",
   "language": "python",
   "name": "python3"
  },
  "language_info": {
   "codemirror_mode": {
    "name": "ipython",
    "version": 3
   },
   "file_extension": ".py",
   "mimetype": "text/x-python",
   "name": "python",
   "nbconvert_exporter": "python",
   "pygments_lexer": "ipython3",
   "version": "3.10.6"
  }
 },
 "nbformat": 4,
 "nbformat_minor": 5
}
