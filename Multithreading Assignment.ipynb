{
  "nbformat": 4,
  "nbformat_minor": 0,
  "metadata": {
    "colab": {
      "provenance": []
    },
    "kernelspec": {
      "name": "python3",
      "display_name": "Python 3"
    },
    "language_info": {
      "name": "python"
    }
  },
  "cells": [
    {
      "cell_type": "code",
      "execution_count": 1,
      "metadata": {
        "id": "ixI-9Cdx80GM"
      },
      "outputs": [],
      "source": [
        "#Q1 - Answer -*Multithreading in Python refers to the concurrent execution of multiple threads (smaller units of a program) within a single process. Each thread runs independently, allowing tasks to be performed simultaneously, which can improve the efficiency of programs that require tasks to be executed concurrently.However, Python's Global Interpreter Lock (GIL) limits true parallelism in CPU-bound tasks because only one thread can execute Python bytecode at a time. Therefore, multithreading in Python is most effective for I/O-bound tasks (such as reading and writing to files, network requests, etc.) rather than CPU-bound tasks.\n",
        "#Why is Multithreading Used?*\n",
        "#Multithreading is used for:\n",
        "#Concurrency: To handle multiple tasks at the same time, such as managing I/O operations while performing computations.\n",
        "#Responsiveness: It makes programs more responsive, as certain tasks (like waiting for I/O) don't block the execution of others.\n",
        "#Parallelism in I/O-bound tasks: In tasks like network requests or reading from disk, multithreading can significantly improve performance since the threads can overlap waiting time with other work.\n",
        "#Module to Handle Threads in Python\n",
        "#The module used to handle threads in Python is the threading module. This module provides a higher-level interface to work with threads and allows you to create and manage threads in Python programs*"
      ]
    },
    {
      "cell_type": "code",
      "source": [
        "#Q2 - Answer - #The threading module in Python is used to implement multithreading, which allows a program to perform multiple tasks concurrently within a single process. It provides an easier interface for managing threads, ensuring that different operations can run simultaneously, especially in I/O-bound scenarios (like network operations, file I/O, etc.).\n",
        "\n",
        "#Run multiple threads: Execute several tasks concurrently within the same program.\n",
        "#Improve performance: Efficiently handle I/O-bound tasks or scenarios where multiple activities can occur at the same time.\n",
        "#Manage thread synchronization: Coordinate the execution of threads using locks, semaphores, and conditions."
      ],
      "metadata": {
        "id": "8xNqNom884E4"
      },
      "execution_count": 2,
      "outputs": []
    },
    {
      "cell_type": "code",
      "source": [
        "#Functions of the threading Module:\n",
        "#1. threading.activeCount()\n",
        "#Use: This function returns the number of thread objects that are currently alive.\n",
        "#Explanation: It helps to keep track of how many threads are currently running in your program. It’s useful when you want to monitor the thread count for debugging or for logic based on thread activity."
      ],
      "metadata": {
        "id": "WnZB3rrU-AHl"
      },
      "execution_count": 3,
      "outputs": []
    },
    {
      "cell_type": "code",
      "source": [
        "#2. threading.currentThread()\n",
        "#Use: This function returns the thread object corresponding to the current thread of execution.\n",
        "#Explanation: It allows you to access and identify the thread currently running your code. This can be helpful if you need to perform thread-specific operations, such as logging the name of the thread or checking its properties.\n",
        "\n"
      ],
      "metadata": {
        "id": "dG4cg6At-SiS"
      },
      "execution_count": 4,
      "outputs": []
    },
    {
      "cell_type": "code",
      "source": [
        "#3. threading.enumerate()\n",
        "#Use: This function returns a list of all thread objects that are currently alive.\n",
        "#Explanation: It provides a snapshot of all running threads at a particular moment, making it easier to iterate through them for monitoring, logging, or controlling purposes.\n"
      ],
      "metadata": {
        "id": "pFKVIYaZ-Zvr"
      },
      "execution_count": 10,
      "outputs": []
    },
    {
      "cell_type": "code",
      "source": [
        "import threading\n",
        "\n",
        "# Function to print squares of numbers\n",
        "def print_squares(numbers):\n",
        "    print(\"Squares:\")\n",
        "    for n in numbers:\n",
        "        print(f\"{n}^2 = {n**2}\")\n",
        "    print()  # For better readability\n",
        "\n",
        "# Function to print cubes of numbers\n",
        "def print_cubes(numbers):\n",
        "    print(\"Cubes:\")\n",
        "    for n in numbers:\n",
        "        print(f\"{n}^3 = {n**3}\")\n",
        "    print()  # For better readability\n",
        "\n",
        "# List of numbers\n",
        "numbers = [1, 2, 3, 4, 5]\n",
        "\n",
        "# Creating two threads: one for squares and one for cubes\n",
        "thread1 = threading.Thread(target=print_squares, args=(numbers,))\n",
        "thread2 = threading.Thread(target=print_cubes, args=(numbers,))\n",
        "\n",
        "# Starting both threads\n",
        "thread1.start()\n",
        "thread2.start()\n",
        "\n",
        "# Ensuring both threads have finished execution before proceeding\n",
        "thread1.join()\n",
        "thread2.join()\n",
        "\n",
        "print(\"Both threads have finished execution.\")\n"
      ],
      "metadata": {
        "colab": {
          "base_uri": "https://localhost:8080/"
        },
        "id": "q9Z7fUrF-dJb",
        "outputId": "9a2ee881-3acd-44bc-cf82-56d403c6e54f"
      },
      "execution_count": 9,
      "outputs": [
        {
          "output_type": "stream",
          "name": "stdout",
          "text": [
            "Squares:\n",
            "1^2 = 1\n",
            "2^2 = 4\n",
            "3^2 = 9\n",
            "4^2 = 16\n",
            "5^2 = 25\n",
            "\n",
            "Cubes:\n",
            "1^3 = 1\n",
            "2^3 = 8\n",
            "3^3 = 27\n",
            "4^3 = 64\n",
            "5^3 = 125\n",
            "\n",
            "Both threads have finished execution.\n"
          ]
        }
      ]
    },
    {
      "cell_type": "code",
      "source": [
        "#Q3 - Answer - run(): Contains the code to be executed by the thread (called indirectly via start()).\n",
        "#start(): Begins the execution of the thread, triggering the run() method in a new thread.\n",
        "#join(): Blocks the calling thread until the thread on which it was called finishes execution.\n",
        "#isAlive() (or is_alive() in Python 3): Returns True if the thread is still running, False if it has completed."
      ],
      "metadata": {
        "id": "FAyPXEbI-qlT"
      },
      "execution_count": 11,
      "outputs": []
    },
    {
      "cell_type": "code",
      "source": [
        "#Q-5 Answer - Advantages of Multithreading:\n",
        "#Concurrency: Allows tasks to run simultaneously, improving efficiency.\n",
        "#Resource Sharing: Threads share the same memory, reducing overhead.\n",
        "#Responsiveness: Makes applications more responsive by handling multiple tasks.\n",
        "#Better Resource Utilization: Utilizes CPU cycles more effectively.\n",
        "#Simplified Design: Easier handling of tasks like I/O and user interfaces.\n",
        "#Parallelism for I/O-bound tasks: Benefits I/O-bound operations despite Python's GIL.\n",
        "#Disadvantages of Multithreading:\n",
        "#GIL in Python: Limits parallelism for CPU-bound tasks.\n",
        "#Complex Debugging: Harder to debug and test due to race conditions and deadlocks.\n",
        "#Increased Complexity: Managing threads and synchronization is challenging.\n",
        "#Context Switching Overhead: Frequent switching between threads can reduce performance.\n",
        "#Race Conditions: Risk of data corruption if shared resources aren't managed correctly.\n",
        "#Deadlocks: Threads can block each other, halting progress.\n",
        "#Limited Gains for CPU-bound tasks: No significant performance improvement in CPU-heavy tasks."
      ],
      "metadata": {
        "id": "4w4Q0mbqAv-5"
      },
      "execution_count": 12,
      "outputs": []
    },
    {
      "cell_type": "code",
      "source": [
        "#Q6 - Answer - Deadlocks\n",
        "#A deadlock occurs when two or more threads are blocked, each waiting for resources held by the other, leading to a circular wait. No thread can proceed, causing the program to freeze.\n",
        "\n",
        "#Example: Thread A locks Resource 1 and waits for Resource 2, while Thread B locks Resource 2 and waits for Resource 1.\n",
        "#Prevention:\n",
        "#Lock ordering: Ensure all threads lock resources in the same order.\n",
        "#Timeouts: Release resources if a lock isn't acquired within a timeout.\n",
        "#Avoid Hold and Wait: Request all resources at once instead of holding some and waiting for others."
      ],
      "metadata": {
        "id": "I0G6kuqrBXB5"
      },
      "execution_count": 13,
      "outputs": []
    },
    {
      "cell_type": "code",
      "source": [
        "#Race Conditions\n",
        "#A race condition occurs when multiple threads access shared data concurrently, and the final result depends on the timing of the threads' execution. This can lead to incorrect or unpredictable outcomes.\n",
        "\n",
        "#Example: Two threads incrementing a shared counter simultaneously, causing missed updates.\n",
        "#Prevention:\n",
        "#Locks (Mutexes): Ensure only one thread accesses shared data at a time.\n",
        "#Atomic operations: Perform indivisible operations on shared data.\n",
        "#Thread synchronization: Use mechanisms like semaphores to coordinate access."
      ],
      "metadata": {
        "id": "_CfoMgVNBg-o"
      },
      "execution_count": null,
      "outputs": []
    }
  ]
}