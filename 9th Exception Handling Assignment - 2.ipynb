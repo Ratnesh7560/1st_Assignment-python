{
 "cells": [
  {
   "cell_type": "code",
   "execution_count": 1,
   "id": "a59248c7-b80c-4137-a63a-72dab8e4d2d0",
   "metadata": {},
   "outputs": [],
   "source": [
    "#Q1. Explain why we have to use the Exception class while creating a Custom Exception.\n",
    "#Note: Here Exception class refers to the base class for all the exceptions."
   ]
  },
  {
   "cell_type": "code",
   "execution_count": 3,
   "id": "28fd6819-1c3c-43a2-98d6-b04d893fc31b",
   "metadata": {},
   "outputs": [
    {
     "name": "stdout",
     "output_type": "stream",
     "text": [
      "Caught custom exception: Custom Error: This is a custom exception.\n"
     ]
    }
   ],
   "source": [
    "# __________ANSWER__________\n",
    "\n",
    "#When creating a custom exception in Python, it is essential to inherit from the base class for all exceptions, \n",
    "#which is the Exception class. The Exception class is the parent class for all built-in exception classes in Python, \n",
    "#and by inheriting from it, the custom exception inherits all the standard behavior and features of a typical Python exception.\n",
    "\n",
    "#The reasons why we should use the Exception class as the base class for custom exceptions\n",
    "#1.Consistency and Compatibility\n",
    "#2.Exception Handling\n",
    "#3.Hierarchy of Exceptions\n",
    "#4.Use of Built-in Features\n",
    "\n",
    "class CustomError(Exception):\n",
    "    def __init__(self, message):\n",
    "        self.message = message\n",
    "\n",
    "    def __str__(self):\n",
    "        return f\"Custom Error: {self.message}\"\n",
    "\n",
    "try:\n",
    "    raise CustomError(\"This is a custom exception.\")\n",
    "except CustomError as ce:\n",
    "    print(\"Caught custom exception:\", ce)"
   ]
  },
  {
   "cell_type": "code",
   "execution_count": 4,
   "id": "427c7987-1736-4c91-8329-7f5ca33663ec",
   "metadata": {},
   "outputs": [],
   "source": [
    "#Q2. Write a python program to print Python Exception Hierarchy."
   ]
  },
  {
   "cell_type": "code",
   "execution_count": 6,
   "id": "25805a76-298c-4da0-ae01-71d759cc42f9",
   "metadata": {},
   "outputs": [
    {
     "name": "stdout",
     "output_type": "stream",
     "text": [
      "Python Exception Hierarchy:\n",
      "BaseException\n",
      "  object\n"
     ]
    }
   ],
   "source": [
    "# __________ANSWER__________\n",
    "\n",
    "def print_exception_hierarchy(exception_class, indent=0):\n",
    "    print(\" \" * indent + exception_class.__name__)\n",
    "    for base_class in exception_class.__bases__:\n",
    "        print_exception_hierarchy(base_class, indent + 2)\n",
    "\n",
    "print(\"Python Exception Hierarchy:\")\n",
    "print_exception_hierarchy(BaseException)"
   ]
  },
  {
   "cell_type": "code",
   "execution_count": 7,
   "id": "20c11e55-f486-45c9-bf35-d54688c7de61",
   "metadata": {},
   "outputs": [],
   "source": [
    "#Q3. What errors are defined in the ArithmeticError class? Explain any two with an example."
   ]
  },
  {
   "cell_type": "code",
   "execution_count": 8,
   "id": "fc7423ba-dd57-4ffd-8dd7-cbca4048a85b",
   "metadata": {},
   "outputs": [],
   "source": [
    "# __________ANSWER__________\n",
    "\n",
    "#The ArithmeticError class is a base class for arithmetic-related exceptions in Python."
   ]
  },
  {
   "cell_type": "code",
   "execution_count": 9,
   "id": "ddf3171d-bfa4-405c-a77f-271f4fb5d2bc",
   "metadata": {},
   "outputs": [
    {
     "name": "stdout",
     "output_type": "stream",
     "text": [
      "Error: division by zero\n"
     ]
    }
   ],
   "source": [
    "#Example 1: ZeroDivisionError\n",
    "\n",
    "def divide_numbers(a, b):\n",
    "    return a / b\n",
    "\n",
    "try:\n",
    "    result = divide_numbers(10, 0)  # Attempting to divide by zero\n",
    "    print(\"Result:\", result)\n",
    "except ZeroDivisionError as e:\n",
    "    print(\"Error:\", e)"
   ]
  },
  {
   "cell_type": "code",
   "execution_count": 13,
   "id": "bbb4f89d-7173-44d7-83a2-917ada3ba3a1",
   "metadata": {},
   "outputs": [
    {
     "name": "stdout",
     "output_type": "stream",
     "text": [
      "Factorial: 3628800\n"
     ]
    }
   ],
   "source": [
    "#Example 2: OverflowError\n",
    "\n",
    "import math\n",
    "\n",
    "try:\n",
    "    large_number = math.factorial(10)  # Computing factorial of a large number\n",
    "    print(\"Factorial:\", large_number)\n",
    "except OverflowError as e:\n",
    "    print(\"Error:\", e)\n"
   ]
  },
  {
   "cell_type": "code",
   "execution_count": 14,
   "id": "d79d06ff-ff11-41e5-bc3e-21f7bba7b7c1",
   "metadata": {},
   "outputs": [],
   "source": [
    "#Q4. Why LookupError class is used? Explain with an example KeyError and IndexError."
   ]
  },
  {
   "cell_type": "code",
   "execution_count": 15,
   "id": "11b518ce-f549-4095-bcde-4039943c04ed",
   "metadata": {},
   "outputs": [],
   "source": [
    "# __________ANSWER__________\n",
    "\n",
    "#The LookupError class is used as a base class for exceptions related to lookup operations."
   ]
  },
  {
   "cell_type": "code",
   "execution_count": 16,
   "id": "ac08d751-53b9-40ec-b3a1-db2b5aa3874f",
   "metadata": {},
   "outputs": [
    {
     "name": "stdout",
     "output_type": "stream",
     "text": [
      "30\n",
      "Age for 'Eve' not found in the person data.\n"
     ]
    }
   ],
   "source": [
    "#Example 1: KeyError\n",
    "\n",
    "def get_person_age(person_data, name):\n",
    "    try:\n",
    "        age = person_data[name]\n",
    "        return age\n",
    "    except KeyError:\n",
    "        return f\"Age for '{name}' not found in the person data.\"\n",
    "\n",
    "# Sample person data as a dictionary\n",
    "person_data = {\n",
    "    'Alice': 30,\n",
    "    'Bob': 25,\n",
    "    'Charlie': 28\n",
    "}\n",
    "\n",
    "# Example 1: Valid key\n",
    "print(get_person_age(person_data, 'Alice'))  # Output: 30\n",
    "\n",
    "# Example 2: Invalid key\n",
    "print(get_person_age(person_data, 'Eve'))    # Output: Age for 'Eve' not found in the person data.\n"
   ]
  },
  {
   "cell_type": "code",
   "execution_count": 17,
   "id": "64f432fd-67d4-4687-8099-93619b4f24c4",
   "metadata": {},
   "outputs": [
    {
     "name": "stdout",
     "output_type": "stream",
     "text": [
      "3\n",
      "Index '10' is out of range.\n"
     ]
    }
   ],
   "source": [
    "#Example 2: IndexError\n",
    "\n",
    "def get_element_from_list(input_list, index):\n",
    "    try:\n",
    "        element = input_list[index]\n",
    "        return element\n",
    "    except IndexError:\n",
    "        return f\"Index '{index}' is out of range.\"\n",
    "\n",
    "# Sample list of numbers\n",
    "numbers = [1, 2, 3, 4, 5]\n",
    "\n",
    "# Example 1: Valid index\n",
    "print(get_element_from_list(numbers, 2))   # Output: 3\n",
    "\n",
    "# Example 2: Invalid index\n",
    "print(get_element_from_list(numbers, 10))  # Output: Index '10' is out of range.\n"
   ]
  },
  {
   "cell_type": "code",
   "execution_count": 18,
   "id": "691dc4da-3b29-4b76-be1a-60760f5a0e08",
   "metadata": {},
   "outputs": [],
   "source": [
    "#Q5. Explain ImportError. What is ModuleNotFoundError?"
   ]
  },
  {
   "cell_type": "code",
   "execution_count": 19,
   "id": "7e8ca3e5-65e9-4c59-b3f1-40b6caa140c8",
   "metadata": {},
   "outputs": [],
   "source": [
    "# __________ANSWER__________\n",
    "\n",
    "#ImportError is a built-in Python exception that occurs when there is an issue with importing a module.\n",
    "#ModuleNotFoundError is a subclass of ImportError, introduced in Python 3.6. It is specifically raised when a module or package that is attempted to be imported cannot be found in the Python environment. "
   ]
  },
  {
   "cell_type": "code",
   "execution_count": 20,
   "id": "eaf1496d-5d04-4c0c-9c3c-1da85ed3b6b6",
   "metadata": {},
   "outputs": [
    {
     "name": "stdout",
     "output_type": "stream",
     "text": [
      "ImportError: No module named 'non_existent_module'\n"
     ]
    }
   ],
   "source": [
    "#Example of ImportError:\n",
    "\n",
    "try:\n",
    "    import non_existent_module\n",
    "except ImportError as ie:\n",
    "    print(\"ImportError:\", ie)\n"
   ]
  },
  {
   "cell_type": "code",
   "execution_count": 21,
   "id": "81e3df1f-1322-4852-994e-7051ebbe403c",
   "metadata": {},
   "outputs": [
    {
     "name": "stdout",
     "output_type": "stream",
     "text": [
      "ModuleNotFoundError: No module named 'non_existent_module'\n"
     ]
    }
   ],
   "source": [
    "#Example of ModuleNotFoundError:\n",
    "\n",
    "try:\n",
    "    import non_existent_module\n",
    "except ModuleNotFoundError as mne:\n",
    "    print(\"ModuleNotFoundError:\", mne)"
   ]
  },
  {
   "cell_type": "code",
   "execution_count": 22,
   "id": "0ba90f12-2d9c-4ba3-898d-aed60aa2eb00",
   "metadata": {},
   "outputs": [],
   "source": [
    "#Q6. List down some best practices for exception handling in python."
   ]
  },
  {
   "cell_type": "code",
   "execution_count": null,
   "id": "f4cd4449-5c8d-4997-a22f-99bb53024615",
   "metadata": {},
   "outputs": [],
   "source": [
    "# __________ANSWER__________\n",
    "\n",
    "#1.Specific Exception Catching: Catch only the specific exceptions that you expect to handle. \n",
    "#2.Keep try Blocks Minimal: Place only the necessary code that might raise an exception inside the try block. \n",
    "#3.Log Exceptions: Always log exceptions with relevant information to help with debugging and troubleshooting.\n",
    "#4.Keep Error Messages User-Friendly: Provide clear and user-friendly error messages in exception handling code.\n",
    "#5.Avoid Silencing Exceptions: Avoid silencing exceptions by using empty except blocks or suppressing error messages. "
   ]
  }
 ],
 "metadata": {
  "kernelspec": {
   "display_name": "Python 3 (ipykernel)",
   "language": "python",
   "name": "python3"
  },
  "language_info": {
   "codemirror_mode": {
    "name": "ipython",
    "version": 3
   },
   "file_extension": ".py",
   "mimetype": "text/x-python",
   "name": "python",
   "nbconvert_exporter": "python",
   "pygments_lexer": "ipython3",
   "version": "3.10.6"
  }
 },
 "nbformat": 4,
 "nbformat_minor": 5
}
