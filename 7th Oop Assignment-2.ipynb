{
 "cells": [
  {
   "cell_type": "code",
   "execution_count": 12,
   "id": "dd6acfc6-3b23-442a-83c8-064eb448fc9a",
   "metadata": {},
   "outputs": [],
   "source": [
    "# Q1. What is Abstraction in OOps? Explain with an example.\n",
    "\n",
    "# *************ANSWER*************\n",
    "\n",
    "# Abstraction in object-oriented programming (OOP) refers to the process of creating abstract classes or interfaces that \n",
    "# define a common structure and behavior for related objects. It involves hiding implementation details and\n",
    "# providing a simplified view of the objects to the users of those objects.\n",
    "\n",
    "# ------------- example -------------\n",
    "\n",
    "from abc import ABC, abstractclassmethod\n",
    "\n",
    "class vehicle(ABC) :\n",
    "    def __init__(self,brand):\n",
    "        self.brand = brand\n",
    "        \n",
    "    @abstractclassmethod\n",
    "    def accelerate(self):\n",
    "        pass\n",
    "    \n",
    "    @abstractclassmethod\n",
    "    def brake(self):\n",
    "        pass\n",
    "    \n",
    "    def display_info(self):\n",
    "        print(\"Brand:\" , self.brand)\n",
    "        \n",
    "class Car(vehicle):\n",
    "    def accelerate(self):\n",
    "        print(\"The car is accelerating.\")\n",
    "        \n",
    "    def brake(self):\n",
    "        print(\"The car is breaking.\")\n",
    "        \n",
    "\n",
    "class Motorcycle(vehicle):\n",
    "    def accelerate(self):\n",
    "        print(\"The motorcycle is accelerating.\")\n",
    "        \n",
    "    def brake(self):\n",
    "        print(\"the motorcycle is breaking.\")"
   ]
  },
  {
   "cell_type": "code",
   "execution_count": 22,
   "id": "c913ce49-10bd-4b5a-b72c-712c9e525bfb",
   "metadata": {},
   "outputs": [
    {
     "name": "stdout",
     "output_type": "stream",
     "text": [
      "The car is accelerating.\n",
      "The car is breaking.\n",
      "Brand: BMW\n"
     ]
    }
   ],
   "source": [
    "# Creating instances\n",
    "\n",
    "car = Car(\"BMW\")\n",
    "car.accelerate()\n",
    "car.brake()\n",
    "car.display_info()"
   ]
  },
  {
   "cell_type": "code",
   "execution_count": 20,
   "id": "ecaadb26-13ae-4982-a855-24a94d8731ca",
   "metadata": {},
   "outputs": [
    {
     "name": "stdout",
     "output_type": "stream",
     "text": [
      "The motorcycle is accelerating.\n",
      "the motorcycle is breaking.\n",
      "Brand: Royal Engfield\n"
     ]
    }
   ],
   "source": [
    "motorcycle = Motorcycle(\"Royal Engfield\")\n",
    "motorcycle.accelerate()\n",
    "motorcycle.brake()\n",
    "motorcycle.display_info()"
   ]
  },
  {
   "cell_type": "code",
   "execution_count": 17,
   "id": "66304fdd-ac34-4ec1-8d1c-5d6c4e231cff",
   "metadata": {},
   "outputs": [],
   "source": [
    "# Q2. Differentiate between Abstraction and Encapsulation. Explain with an example.\n",
    "\n",
    "# *************ANSWER*************\n",
    "\n",
    "# ____Abstraction:\n",
    "\n",
    "# Abstraction focuses on hiding unnecessary implementation details and emphasizing the essential features and behaviors of \n",
    "# an object or a system.\n",
    "# It provides a simplified and high-level representation of an object or a system, allowing users to interact with \n",
    "# it without needing to understand the internal complexities.\n",
    "# Abstraction is achieved through the use of abstract classes, interfaces, and inheritance.\n",
    "\n",
    "# ____Encapsulation:\n",
    "\n",
    "# Encapsulation is about bundling related data and methods together into a single unit, known as a class.\n",
    "# It provides a way to control access to the internal state of an object, ensuring that data is accessed and modified \n",
    "# only through defined methods.\n",
    "# Encapsulation protects the integrity of the object's data and promotes data hiding and modular programming.\n",
    "# It is achieved through access modifiers like public, private, and protected, and by providing getter and setter\n",
    "# methods to access and modify the internal state of an object.\n",
    "\n",
    "class BankAccount:\n",
    "    def __init__(self, account_number , balance) :\n",
    "        self.account_number = account_number\n",
    "        self.balance = balance\n",
    "        \n",
    "    def deposit(self , amount) :\n",
    "            self.balance += amount\n",
    "            print(f\"Deposited {amount} into account. New balance: {self.balance}\")\n",
    "            \n",
    "    def withdraw(self , amount) :\n",
    "            if amount <= self.balance:\n",
    "                self.balance -= amount\n",
    "                print(f\"Withdrew {amount} from account. New balance: {self.balance}\")\n",
    "            else:\n",
    "                print(\"Insufficient funds.\")\n",
    "                \n",
    "    def get_balance(self):\n",
    "                return self.balance"
   ]
  },
  {
   "cell_type": "code",
   "execution_count": 18,
   "id": "65dbd842-16de-409a-8ff9-6075e2e80959",
   "metadata": {},
   "outputs": [],
   "source": [
    "account = BankAccount(\"RD7777\" , 2000)"
   ]
  },
  {
   "cell_type": "code",
   "execution_count": 19,
   "id": "3fc550d5-8be9-4ed1-a7e7-200ce909e1a8",
   "metadata": {},
   "outputs": [
    {
     "name": "stdout",
     "output_type": "stream",
     "text": [
      "Deposited 1000 into account. New balance: 3000\n"
     ]
    }
   ],
   "source": [
    "account.deposit(1000)"
   ]
  },
  {
   "cell_type": "code",
   "execution_count": 20,
   "id": "7f67527f-8ac3-4144-914d-d3b85652aae0",
   "metadata": {},
   "outputs": [
    {
     "name": "stdout",
     "output_type": "stream",
     "text": [
      "Withdrew 1500 from account. New balance: 1500\n"
     ]
    }
   ],
   "source": [
    "account.withdraw(1500)"
   ]
  },
  {
   "cell_type": "code",
   "execution_count": null,
   "id": "807da2e9-830f-4188-afae-34195d6fd7e0",
   "metadata": {},
   "outputs": [],
   "source": [
    "# Q3. What is abc module in python? Why is it used?\n",
    "\n",
    "# *************ANSWER*************\n",
    "\n",
    "# The abc module in Python stands for \"Abstract Base Classes.\n",
    "# It provides mechanisms for defining abstract base classes in Python.\n"
   ]
  },
  {
   "cell_type": "code",
   "execution_count": 22,
   "id": "c401bfbe-af08-4f33-aaaa-94457de3b07e",
   "metadata": {},
   "outputs": [],
   "source": [
    "# Q4. How can we achieve data abstraction?\n",
    "\n",
    "# *************ANSWER*************\n",
    "\n",
    "# Data abstraction can be achieved in Python through the use of classes, objects, and access modifiers."
   ]
  },
  {
   "cell_type": "code",
   "execution_count": null,
   "id": "3e82eaf5-1a95-4c6f-ae2d-1cef9398580c",
   "metadata": {},
   "outputs": [],
   "source": [
    "# Q5. Can we create an instance of an abstract class? Explain your answer.\n",
    "\n",
    "# *************ANSWER*************\n",
    "\n",
    "# No, we cannot create an instance of an abstract class in Python.\n"
   ]
  }
 ],
 "metadata": {
  "kernelspec": {
   "display_name": "Python 3 (ipykernel)",
   "language": "python",
   "name": "python3"
  },
  "language_info": {
   "codemirror_mode": {
    "name": "ipython",
    "version": 3
   },
   "file_extension": ".py",
   "mimetype": "text/x-python",
   "name": "python",
   "nbconvert_exporter": "python",
   "pygments_lexer": "ipython3",
   "version": "3.10.6"
  }
 },
 "nbformat": 4,
 "nbformat_minor": 5
}
