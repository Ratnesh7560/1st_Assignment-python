{
 "cells": [
  {
   "cell_type": "code",
   "execution_count": 1,
   "id": "9117d8e1-cbaf-42ad-b8c6-c00db86751f9",
   "metadata": {},
   "outputs": [],
   "source": [
    "#Q1. How do you comment code in Python? What are the different types of comments?"
   ]
  },
  {
   "cell_type": "code",
   "execution_count": 2,
   "id": "35eb84fd-c0e2-492a-82c6-03320b7a99fd",
   "metadata": {},
   "outputs": [],
   "source": [
    "#Ans:- We can use # for comment in python \n",
    "#There are three types of comments: single-line, multi-line, and docstring comments"
   ]
  },
  {
   "cell_type": "code",
   "execution_count": 3,
   "id": "ee3a77cd-b6f0-40e2-86ab-85ecc6e6460d",
   "metadata": {},
   "outputs": [],
   "source": [
    "#Q2. What are variables in Python? How do you declare and assign values to variables?"
   ]
  },
  {
   "cell_type": "code",
   "execution_count": 4,
   "id": "5d4f378c-4ce0-416b-8094-028bbdad8d19",
   "metadata": {},
   "outputs": [],
   "source": [
    "#Ans:- Python variable is a symbolic name that is a reference or pointer to an object.\n",
    "#e.g r=1234 The = symbol is known as the assignment operator."
   ]
  },
  {
   "cell_type": "code",
   "execution_count": 5,
   "id": "2b439977-034c-424b-a6a1-46e5e2fcfd35",
   "metadata": {},
   "outputs": [],
   "source": [
    "#Q3. How do you convert one data type to another in Python?"
   ]
  },
  {
   "cell_type": "code",
   "execution_count": 6,
   "id": "bc0b6868-4046-4b33-b6cb-175438adca48",
   "metadata": {},
   "outputs": [],
   "source": [
    "#Ans:- To convert typessimply use the type name as a function."
   ]
  },
  {
   "cell_type": "code",
   "execution_count": 7,
   "id": "f2dfb2b2-ea73-4c0b-9299-e05da7f1a1d6",
   "metadata": {},
   "outputs": [],
   "source": [
    "#Q4. How do you write and execute a Python script from the command line?"
   ]
  },
  {
   "cell_type": "code",
   "execution_count": 12,
   "id": "87e1be0c-7ebc-46a5-aee5-dbf84dadb01e",
   "metadata": {},
   "outputs": [],
   "source": [
    "#Ans:- Save the script with a .py extension,navigate to its directory in command prompt/terminal, & use the \n",
    "#prompt/terminal, & use the commant \"pythonscript_name.py\" to execute it."
   ]
  },
  {
   "cell_type": "code",
   "execution_count": 13,
   "id": "67a46ad6-3222-42b0-a652-4be9118e1d91",
   "metadata": {},
   "outputs": [],
   "source": [
    "#Q5. Given a list my_list = [1, 2, 3, 4, 5], write the code to slice the list and obtain the sub-list [2, 3]."
   ]
  },
  {
   "cell_type": "code",
   "execution_count": 25,
   "id": "63d15f5c-9b2d-4e44-800a-d2362d73a424",
   "metadata": {},
   "outputs": [],
   "source": [
    "my_list = [1,2,3,4,5]"
   ]
  },
  {
   "cell_type": "code",
   "execution_count": 26,
   "id": "eccbcd27-fc1a-48ea-a41b-5834b0ea034f",
   "metadata": {},
   "outputs": [
    {
     "data": {
      "text/plain": [
       "[1, 2, 3, 4, 5]"
      ]
     },
     "execution_count": 26,
     "metadata": {},
     "output_type": "execute_result"
    }
   ],
   "source": [
    "my_list"
   ]
  },
  {
   "cell_type": "code",
   "execution_count": 31,
   "id": "5c98ac8c-b108-400a-8c38-89cfdd63eaf3",
   "metadata": {},
   "outputs": [
    {
     "data": {
      "text/plain": [
       "[2, 3]"
      ]
     },
     "execution_count": 31,
     "metadata": {},
     "output_type": "execute_result"
    }
   ],
   "source": [
    "my_list[1:3]"
   ]
  },
  {
   "cell_type": "code",
   "execution_count": 32,
   "id": "d9ab9494-5840-45de-a8a1-c7da95508b17",
   "metadata": {},
   "outputs": [],
   "source": [
    "#Q6. What is a complex number in mathematics, and how is it represented in Python?"
   ]
  },
  {
   "cell_type": "code",
   "execution_count": 33,
   "id": "2a8563bb-cdfe-440c-a728-de3cb6f64062",
   "metadata": {},
   "outputs": [],
   "source": [
    "#Ans:- In mathematics, a complex number is a number that comprises both a real part and an imaginary part.\n",
    "       #In python we can create complex number by using the syntax a + bj , where a represents the real part and \n",
    "       #b represents the imaginary part ."
   ]
  },
  {
   "cell_type": "code",
   "execution_count": 34,
   "id": "d9193a78-aa8a-49e6-a64e-f7b6bd690c3d",
   "metadata": {},
   "outputs": [],
   "source": [
    "#Example complex number\n",
    "r = 7 + 8j"
   ]
  },
  {
   "cell_type": "code",
   "execution_count": 35,
   "id": "f8844a60-0785-47e1-afc7-8aa2d0912f07",
   "metadata": {},
   "outputs": [
    {
     "data": {
      "text/plain": [
       "(7+8j)"
      ]
     },
     "execution_count": 35,
     "metadata": {},
     "output_type": "execute_result"
    }
   ],
   "source": [
    "r"
   ]
  },
  {
   "cell_type": "code",
   "execution_count": 36,
   "id": "2f8647c5-ee39-41bf-9f58-71b614407acc",
   "metadata": {},
   "outputs": [],
   "source": [
    "#in this example 3 is real number & 2 is imaginary num , The letter 'j' is used to represent the imaginary ."
   ]
  },
  {
   "cell_type": "code",
   "execution_count": 37,
   "id": "15b604fa-06a6-4b2b-83bb-a839512ef964",
   "metadata": {},
   "outputs": [],
   "source": [
    "#Q7. What is the correct way to declare a variable named age and assign the value 25 to it?"
   ]
  },
  {
   "cell_type": "code",
   "execution_count": 38,
   "id": "dee5e3aa-addd-4ada-99fe-293d41778867",
   "metadata": {},
   "outputs": [],
   "source": [
    "#Ans\n",
    "\n",
    "age = 25"
   ]
  },
  {
   "cell_type": "code",
   "execution_count": 39,
   "id": "8c2af023-43ed-4696-801d-ed8609d896b6",
   "metadata": {},
   "outputs": [
    {
     "data": {
      "text/plain": [
       "25"
      ]
     },
     "execution_count": 39,
     "metadata": {},
     "output_type": "execute_result"
    }
   ],
   "source": [
    "age"
   ]
  },
  {
   "cell_type": "code",
   "execution_count": 40,
   "id": "cc6200b7-ff5e-49cc-8bc6-e86bc61b57b3",
   "metadata": {},
   "outputs": [],
   "source": [
    "#Q8. Declare a variable named price and assign the value 9.99 to it. What data type does this variable belong to?"
   ]
  },
  {
   "cell_type": "code",
   "execution_count": 41,
   "id": "1aa1b076-6c04-4b00-982b-b91653f39263",
   "metadata": {},
   "outputs": [],
   "source": [
    "price = 9.99"
   ]
  },
  {
   "cell_type": "code",
   "execution_count": 42,
   "id": "d288b4ed-226d-4a12-b9c4-3f4bca23f780",
   "metadata": {},
   "outputs": [
    {
     "data": {
      "text/plain": [
       "float"
      ]
     },
     "execution_count": 42,
     "metadata": {},
     "output_type": "execute_result"
    }
   ],
   "source": [
    "type(price)"
   ]
  },
  {
   "cell_type": "code",
   "execution_count": 43,
   "id": "26e72afa-ac2f-4714-ba1a-a955b4385fbb",
   "metadata": {},
   "outputs": [],
   "source": [
    "#Ans : - floating data type variable belong"
   ]
  },
  {
   "cell_type": "code",
   "execution_count": 50,
   "id": "7c45c1a0-6dcc-49f7-b93d-8ad292526fb7",
   "metadata": {},
   "outputs": [],
   "source": [
    "#Q9. Create a variable named name and assign your full name to it as a string. How would you print the\n",
    "#value of this variable?"
   ]
  },
  {
   "cell_type": "code",
   "execution_count": 62,
   "id": "29d999b4-7be1-4ddd-b76e-3fd762d0637f",
   "metadata": {},
   "outputs": [
    {
     "name": "stdout",
     "output_type": "stream",
     "text": [
      "Ratnesh Dubey\n"
     ]
    }
   ],
   "source": [
    "#Ans\n",
    "name = \"Ratnesh Dubey\"\n",
    "print(name)"
   ]
  },
  {
   "cell_type": "code",
   "execution_count": 61,
   "id": "b9a6386d-0ff0-451d-8251-2419a48b3a22",
   "metadata": {},
   "outputs": [],
   "source": [
    "#Q10. Given the string \"Hello, World!\", extract the substring \"World\"."
   ]
  },
  {
   "cell_type": "code",
   "execution_count": 66,
   "id": "bd7ad585-6663-4d75-bc61-ce7df8becc1f",
   "metadata": {},
   "outputs": [],
   "source": [
    "string = \"hello, World!\""
   ]
  },
  {
   "cell_type": "code",
   "execution_count": 67,
   "id": "e18189bc-34a2-4dee-9122-169104b8039a",
   "metadata": {},
   "outputs": [
    {
     "data": {
      "text/plain": [
       "'hello, World!'"
      ]
     },
     "execution_count": 67,
     "metadata": {},
     "output_type": "execute_result"
    }
   ],
   "source": [
    "string"
   ]
  },
  {
   "cell_type": "code",
   "execution_count": 68,
   "id": "b9334361-ee63-449d-8969-e1bff4255bb4",
   "metadata": {},
   "outputs": [
    {
     "data": {
      "text/plain": [
       "'World'"
      ]
     },
     "execution_count": 68,
     "metadata": {},
     "output_type": "execute_result"
    }
   ],
   "source": [
    "string[7:12]"
   ]
  },
  {
   "cell_type": "code",
   "execution_count": 69,
   "id": "0d163c66-3d8b-4ca6-b4f0-61053b4a419b",
   "metadata": {},
   "outputs": [],
   "source": [
    "#Q11. Create a variable named \"is_student\" and assign it a boolean value indicating whether you are\n",
    "#currently a student or not."
   ]
  },
  {
   "cell_type": "code",
   "execution_count": 72,
   "id": "ef2f6f4c-2dfe-4cfc-b47f-ef7415c0ebdc",
   "metadata": {},
   "outputs": [],
   "source": [
    "#Ans\n",
    "\n",
    "is_student = False"
   ]
  },
  {
   "cell_type": "code",
   "execution_count": 73,
   "id": "1854d0e0-70f4-4d54-887e-cb1ad02490ee",
   "metadata": {},
   "outputs": [
    {
     "data": {
      "text/plain": [
       "bool"
      ]
     },
     "execution_count": 73,
     "metadata": {},
     "output_type": "execute_result"
    }
   ],
   "source": [
    "type(is_student)"
   ]
  }
 ],
 "metadata": {
  "kernelspec": {
   "display_name": "Python 3 (ipykernel)",
   "language": "python",
   "name": "python3"
  },
  "language_info": {
   "codemirror_mode": {
    "name": "ipython",
    "version": 3
   },
   "file_extension": ".py",
   "mimetype": "text/x-python",
   "name": "python",
   "nbconvert_exporter": "python",
   "pygments_lexer": "ipython3",
   "version": "3.10.6"
  }
 },
 "nbformat": 4,
 "nbformat_minor": 5
}
