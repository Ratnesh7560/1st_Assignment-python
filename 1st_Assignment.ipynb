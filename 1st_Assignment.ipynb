{
 "cells": [
  {
   "cell_type": "code",
   "execution_count": null,
   "id": "cf78304d-a98f-4e44-8b1c-4e74bf087b2b",
   "metadata": {
    "tags": []
   },
   "outputs": [],
   "source": [
    "#Q1. Create one variable containing following type of data:"
   ]
  },
  {
   "cell_type": "code",
   "execution_count": 1,
   "id": "51472eef-28bb-4a45-8188-9981d84c2ce4",
   "metadata": {},
   "outputs": [],
   "source": [
    "r = [\"RD\" , 1.0 , (1,2,3)]"
   ]
  },
  {
   "cell_type": "code",
   "execution_count": 2,
   "id": "c2cdf202-416c-4175-b7fa-d150b898ea0b",
   "metadata": {},
   "outputs": [
    {
     "name": "stdout",
     "output_type": "stream",
     "text": [
      "<class 'str'>\n",
      "<class 'float'>\n",
      "<class 'tuple'>\n"
     ]
    },
    {
     "data": {
      "text/plain": [
       "list"
      ]
     },
     "execution_count": 2,
     "metadata": {},
     "output_type": "execute_result"
    }
   ],
   "source": [
    "for i in r :\n",
    "    print(type(i))\n",
    "type(r)"
   ]
  },
  {
   "cell_type": "code",
   "execution_count": null,
   "id": "d235c2fc-9e94-4ad9-bb89-a6d4aa64a331",
   "metadata": {},
   "outputs": [],
   "source": [
    "#Q2. Given are some following variables containing data:"
   ]
  },
  {
   "cell_type": "code",
   "execution_count": 22,
   "id": "72be1a05-322f-4558-8a60-a5e914c9be03",
   "metadata": {},
   "outputs": [],
   "source": [
    "var1=''"
   ]
  },
  {
   "cell_type": "code",
   "execution_count": 23,
   "id": "620243d5-ff8d-49d9-85d6-57e0ac0c463d",
   "metadata": {},
   "outputs": [
    {
     "data": {
      "text/plain": [
       "str"
      ]
     },
     "execution_count": 23,
     "metadata": {},
     "output_type": "execute_result"
    }
   ],
   "source": [
    "type(var1)"
   ]
  },
  {
   "cell_type": "code",
   "execution_count": 24,
   "id": "4c9c96ba-2967-4c11-8be8-05c702f5e26a",
   "metadata": {},
   "outputs": [],
   "source": [
    "var2='[DS,ML,python]'"
   ]
  },
  {
   "cell_type": "code",
   "execution_count": 25,
   "id": "a96efd37-4556-4872-b3fd-a8235765e7d7",
   "metadata": {},
   "outputs": [
    {
     "data": {
      "text/plain": [
       "str"
      ]
     },
     "execution_count": 25,
     "metadata": {},
     "output_type": "execute_result"
    }
   ],
   "source": [
    "type(var2)"
   ]
  },
  {
   "cell_type": "code",
   "execution_count": 26,
   "id": "ffd6c09d-4f93-4f3d-b89c-7a62fa64b3aa",
   "metadata": {},
   "outputs": [],
   "source": [
    "var3=['DS','ML','Python']"
   ]
  },
  {
   "cell_type": "code",
   "execution_count": 27,
   "id": "456e89f8-bdb7-41c5-b06b-8980fbaa4bdc",
   "metadata": {},
   "outputs": [
    {
     "data": {
      "text/plain": [
       "list"
      ]
     },
     "execution_count": 27,
     "metadata": {},
     "output_type": "execute_result"
    }
   ],
   "source": [
    "type(var3)"
   ]
  },
  {
   "cell_type": "code",
   "execution_count": 28,
   "id": "49ae5806-b365-4fcb-8248-4c83eceb2386",
   "metadata": {},
   "outputs": [],
   "source": [
    "var4=1."
   ]
  },
  {
   "cell_type": "code",
   "execution_count": 29,
   "id": "3c1141b3-07af-4a8a-86c0-89b711f25416",
   "metadata": {},
   "outputs": [
    {
     "data": {
      "text/plain": [
       "float"
      ]
     },
     "execution_count": 29,
     "metadata": {},
     "output_type": "execute_result"
    }
   ],
   "source": [
    "type(var4)"
   ]
  },
  {
   "cell_type": "code",
   "execution_count": null,
   "id": "b32793a1-5496-4422-8a18-91d9c9f6ed9c",
   "metadata": {},
   "outputs": [],
   "source": [
    "#Q3. Explain the use of the following operators using an example:"
   ]
  },
  {
   "cell_type": "code",
   "execution_count": 31,
   "id": "30e698dc-1a36-4417-a477-5008db6004e1",
   "metadata": {},
   "outputs": [
    {
     "data": {
      "text/plain": [
       "2.0"
      ]
     },
     "execution_count": 31,
     "metadata": {},
     "output_type": "execute_result"
    }
   ],
   "source": [
    "4/2"
   ]
  },
  {
   "cell_type": "code",
   "execution_count": 34,
   "id": "09060124-31cd-4fa7-b564-af3351236bb7",
   "metadata": {},
   "outputs": [
    {
     "data": {
      "text/plain": [
       "10"
      ]
     },
     "execution_count": 34,
     "metadata": {},
     "output_type": "execute_result"
    }
   ],
   "source": [
    "10%40"
   ]
  },
  {
   "cell_type": "code",
   "execution_count": 35,
   "id": "b4519279-8ccd-49d0-9f98-17ae34dc2b84",
   "metadata": {},
   "outputs": [
    {
     "data": {
      "text/plain": [
       "1"
      ]
     },
     "execution_count": 35,
     "metadata": {},
     "output_type": "execute_result"
    }
   ],
   "source": [
    "5//4"
   ]
  },
  {
   "cell_type": "code",
   "execution_count": 36,
   "id": "4836688e-b97a-4830-91f0-6e28f4d37bbd",
   "metadata": {},
   "outputs": [
    {
     "data": {
      "text/plain": [
       "8"
      ]
     },
     "execution_count": 36,
     "metadata": {},
     "output_type": "execute_result"
    }
   ],
   "source": [
    "2**3"
   ]
  },
  {
   "cell_type": "code",
   "execution_count": 4,
   "id": "fc4c68fe-bcf0-4e8d-882d-8e41d7f1463d",
   "metadata": {},
   "outputs": [],
   "source": [
    "#Q4. Create a list of length 10 of your choice containing multiple types of data. Using for loop print the \n",
    "#element and its data type."
   ]
  },
  {
   "cell_type": "code",
   "execution_count": 7,
   "id": "9eb40e86-50b2-46ab-a3ea-6e9a1c8d83e2",
   "metadata": {},
   "outputs": [],
   "source": [
    "p = [1 , \"Ratnesh\" , 2.0 , 7+8j , (\"aki\",\"RD\",\"DR\") , True]"
   ]
  },
  {
   "cell_type": "code",
   "execution_count": 8,
   "id": "167d0941-4608-4c7a-b42a-dc374eae1deb",
   "metadata": {},
   "outputs": [
    {
     "name": "stdout",
     "output_type": "stream",
     "text": [
      "<class 'int'>\n",
      "<class 'str'>\n",
      "<class 'float'>\n",
      "<class 'complex'>\n",
      "<class 'tuple'>\n",
      "<class 'bool'>\n"
     ]
    }
   ],
   "source": [
    "for i in p :\n",
    "    print(type(i))"
   ]
  },
  {
   "cell_type": "code",
   "execution_count": 12,
   "id": "ffbdd50b-fd6e-48fe-9bab-e1ecc953d185",
   "metadata": {},
   "outputs": [],
   "source": [
    "#Q5. Using a while loop, verify if the number A is purely divisible by number B and if so then how many\n",
    "#times it can be divisible."
   ]
  },
  {
   "cell_type": "code",
   "execution_count": 15,
   "id": "c7be63ba-7259-466e-b0ce-af27e4c70efc",
   "metadata": {},
   "outputs": [
    {
     "name": "stdout",
     "output_type": "stream",
     "text": [
      "1 is divisible by 2 exactly 3 time.\n"
     ]
    }
   ],
   "source": [
    "a = 8\n",
    "b = 2\n",
    "count=0\n",
    "\n",
    "while a % b == 0:\n",
    "    count += 1\n",
    "    a //= b\n",
    "    \n",
    "if count>0:\n",
    "    print(f\"{a} is divisible by {b} exactly {count} time.\")\n",
    "else:\n",
    "        print(f\"{a} is not divisible by {b}.\")"
   ]
  },
  {
   "cell_type": "code",
   "execution_count": 16,
   "id": "0547f54b-d71f-4c25-88e8-3bc545ecb552",
   "metadata": {},
   "outputs": [],
   "source": [
    "#Q6. Create a list containing 25 int type data. Using for loop and if-else condition print if the element is\n",
    "#divisible by 3 or not."
   ]
  },
  {
   "cell_type": "code",
   "execution_count": 23,
   "id": "9a3bfcb2-9fa1-404d-985e-42a4a1bd802d",
   "metadata": {},
   "outputs": [
    {
     "name": "stdout",
     "output_type": "stream",
     "text": [
      "[2, 4, 9, 12, 15, 18, 21, 24, 27, 30, 33, 36, 39, 42, 45, 48, 51, 54, 57, 60, 63, 66, 69, 72, 75]is divisible by 3.\n",
      "[2, 4, 9, 12, 15, 18, 21, 24, 27, 30, 33, 36, 39, 42, 45, 48, 51, 54, 57, 60, 63, 66, 69, 72, 75]is divisible by 3.\n",
      "[2, 4, 9, 12, 15, 18, 21, 24, 27, 30, 33, 36, 39, 42, 45, 48, 51, 54, 57, 60, 63, 66, 69, 72, 75]is divisible by 3.\n",
      "[2, 4, 9, 12, 15, 18, 21, 24, 27, 30, 33, 36, 39, 42, 45, 48, 51, 54, 57, 60, 63, 66, 69, 72, 75]is divisible by 3.\n",
      "[2, 4, 9, 12, 15, 18, 21, 24, 27, 30, 33, 36, 39, 42, 45, 48, 51, 54, 57, 60, 63, 66, 69, 72, 75]is divisible by 3.\n",
      "[2, 4, 9, 12, 15, 18, 21, 24, 27, 30, 33, 36, 39, 42, 45, 48, 51, 54, 57, 60, 63, 66, 69, 72, 75]is divisible by 3.\n",
      "[2, 4, 9, 12, 15, 18, 21, 24, 27, 30, 33, 36, 39, 42, 45, 48, 51, 54, 57, 60, 63, 66, 69, 72, 75]is divisible by 3.\n",
      "[2, 4, 9, 12, 15, 18, 21, 24, 27, 30, 33, 36, 39, 42, 45, 48, 51, 54, 57, 60, 63, 66, 69, 72, 75]is divisible by 3.\n",
      "[2, 4, 9, 12, 15, 18, 21, 24, 27, 30, 33, 36, 39, 42, 45, 48, 51, 54, 57, 60, 63, 66, 69, 72, 75]is divisible by 3.\n",
      "[2, 4, 9, 12, 15, 18, 21, 24, 27, 30, 33, 36, 39, 42, 45, 48, 51, 54, 57, 60, 63, 66, 69, 72, 75]is divisible by 3.\n",
      "[2, 4, 9, 12, 15, 18, 21, 24, 27, 30, 33, 36, 39, 42, 45, 48, 51, 54, 57, 60, 63, 66, 69, 72, 75]is divisible by 3.\n",
      "[2, 4, 9, 12, 15, 18, 21, 24, 27, 30, 33, 36, 39, 42, 45, 48, 51, 54, 57, 60, 63, 66, 69, 72, 75]is divisible by 3.\n",
      "[2, 4, 9, 12, 15, 18, 21, 24, 27, 30, 33, 36, 39, 42, 45, 48, 51, 54, 57, 60, 63, 66, 69, 72, 75]is divisible by 3.\n",
      "[2, 4, 9, 12, 15, 18, 21, 24, 27, 30, 33, 36, 39, 42, 45, 48, 51, 54, 57, 60, 63, 66, 69, 72, 75]is divisible by 3.\n",
      "[2, 4, 9, 12, 15, 18, 21, 24, 27, 30, 33, 36, 39, 42, 45, 48, 51, 54, 57, 60, 63, 66, 69, 72, 75]is divisible by 3.\n",
      "[2, 4, 9, 12, 15, 18, 21, 24, 27, 30, 33, 36, 39, 42, 45, 48, 51, 54, 57, 60, 63, 66, 69, 72, 75]is divisible by 3.\n",
      "[2, 4, 9, 12, 15, 18, 21, 24, 27, 30, 33, 36, 39, 42, 45, 48, 51, 54, 57, 60, 63, 66, 69, 72, 75]is divisible by 3.\n",
      "[2, 4, 9, 12, 15, 18, 21, 24, 27, 30, 33, 36, 39, 42, 45, 48, 51, 54, 57, 60, 63, 66, 69, 72, 75]is divisible by 3.\n",
      "[2, 4, 9, 12, 15, 18, 21, 24, 27, 30, 33, 36, 39, 42, 45, 48, 51, 54, 57, 60, 63, 66, 69, 72, 75]is divisible by 3.\n",
      "[2, 4, 9, 12, 15, 18, 21, 24, 27, 30, 33, 36, 39, 42, 45, 48, 51, 54, 57, 60, 63, 66, 69, 72, 75]is divisible by 3.\n",
      "[2, 4, 9, 12, 15, 18, 21, 24, 27, 30, 33, 36, 39, 42, 45, 48, 51, 54, 57, 60, 63, 66, 69, 72, 75]is divisible by 3.\n",
      "[2, 4, 9, 12, 15, 18, 21, 24, 27, 30, 33, 36, 39, 42, 45, 48, 51, 54, 57, 60, 63, 66, 69, 72, 75]is divisible by 3.\n",
      "[2, 4, 9, 12, 15, 18, 21, 24, 27, 30, 33, 36, 39, 42, 45, 48, 51, 54, 57, 60, 63, 66, 69, 72, 75]is divisible by 3.\n",
      "[2, 4, 9, 12, 15, 18, 21, 24, 27, 30, 33, 36, 39, 42, 45, 48, 51, 54, 57, 60, 63, 66, 69, 72, 75] is not divisible by 3.\n"
     ]
    }
   ],
   "source": [
    "s = [2,4,9,12,15,18,21,24,27,30,33,36,39,42,45,48,51,54,57,60,63,66,69,72,75]\n",
    "\n",
    "for i in s:\n",
    "    if i%3== 0:\n",
    "        print(f\"{s}is divisible by 3.\")\n",
    "else:\n",
    "    print(f\"{s} is not divisible by 3.\")"
   ]
  },
  {
   "cell_type": "code",
   "execution_count": 24,
   "id": "eb6d9ef0-4955-4f74-a6eb-605828740933",
   "metadata": {},
   "outputs": [],
   "source": [
    "#Q7. What do you understand about mutable and immutable data types? Give examples for both showing\n",
    "#this property."
   ]
  },
  {
   "cell_type": "code",
   "execution_count": 43,
   "id": "01329375-9b99-4e49-a259-1b9a74336ae4",
   "metadata": {},
   "outputs": [],
   "source": [
    "l = [2,3,4,5,6, \"ratnesh\" , 7+8j , True , 778.90]"
   ]
  },
  {
   "cell_type": "code",
   "execution_count": 45,
   "id": "50fb5576-c33d-44ca-b4e6-5a15ca22680a",
   "metadata": {},
   "outputs": [],
   "source": [
    "l[1] = 300"
   ]
  },
  {
   "cell_type": "code",
   "execution_count": 53,
   "id": "d34b8d81-791d-42a8-b47a-5f440439b88e",
   "metadata": {},
   "outputs": [
    {
     "data": {
      "text/plain": [
       "[2, 300, 4, 5, 6, 'ratnesh', (7+8j), True, 778.9]"
      ]
     },
     "execution_count": 53,
     "metadata": {},
     "output_type": "execute_result"
    }
   ],
   "source": [
    "l"
   ]
  },
  {
   "cell_type": "code",
   "execution_count": 57,
   "id": "871e7c4a-a38e-4ada-9b1e-708d78992126",
   "metadata": {},
   "outputs": [],
   "source": [
    "l[5] = \"RD\""
   ]
  },
  {
   "cell_type": "code",
   "execution_count": 58,
   "id": "17ccfab5-d842-46d4-bec7-ffd4e15affa5",
   "metadata": {},
   "outputs": [
    {
     "data": {
      "text/plain": [
       "[2, 300, 4, 5, 6, 'RD', (7+8j), True, 778.9]"
      ]
     },
     "execution_count": 58,
     "metadata": {},
     "output_type": "execute_result"
    }
   ],
   "source": [
    "l"
   ]
  },
  {
   "cell_type": "code",
   "execution_count": 48,
   "id": "24eefd9f-6272-4e74-9454-5eb86349f171",
   "metadata": {},
   "outputs": [],
   "source": [
    "# 300 insted of 3 (is called mutable) \n",
    "#string is mutable in List data"
   ]
  },
  {
   "cell_type": "code",
   "execution_count": 49,
   "id": "70913e78-7792-4183-a40a-eea61afe6ace",
   "metadata": {},
   "outputs": [],
   "source": [
    "c = \"ratnesh\""
   ]
  },
  {
   "cell_type": "code",
   "execution_count": 51,
   "id": "8b30ff50-e8a7-4682-b9ac-5bb75b4de959",
   "metadata": {},
   "outputs": [
    {
     "ename": "TypeError",
     "evalue": "'str' object does not support item assignment",
     "output_type": "error",
     "traceback": [
      "\u001b[0;31m---------------------------------------------------------------------------\u001b[0m",
      "\u001b[0;31mTypeError\u001b[0m                                 Traceback (most recent call last)",
      "Cell \u001b[0;32mIn[51], line 1\u001b[0m\n\u001b[0;32m----> 1\u001b[0m \u001b[43mc\u001b[49m\u001b[43m[\u001b[49m\u001b[38;5;241;43m2\u001b[39;49m\u001b[43m]\u001b[49m \u001b[38;5;241m=\u001b[39m \u001b[38;5;124m\"\u001b[39m\u001b[38;5;124mx\u001b[39m\u001b[38;5;124m\"\u001b[39m\n",
      "\u001b[0;31mTypeError\u001b[0m: 'str' object does not support item assignment"
     ]
    }
   ],
   "source": [
    "c[2] = \"x\""
   ]
  },
  {
   "cell_type": "code",
   "execution_count": null,
   "id": "e6561393-e296-44df-a2ac-d659bf580c59",
   "metadata": {},
   "outputs": [],
   "source": [
    "# string is imutable"
   ]
  }
 ],
 "metadata": {
  "kernelspec": {
   "display_name": "Python 3 (ipykernel)",
   "language": "python",
   "name": "python3"
  },
  "language_info": {
   "codemirror_mode": {
    "name": "ipython",
    "version": 3
   },
   "file_extension": ".py",
   "mimetype": "text/x-python",
   "name": "python",
   "nbconvert_exporter": "python",
   "pygments_lexer": "ipython3",
   "version": "3.10.8"
  }
 },
 "nbformat": 4,
 "nbformat_minor": 5
}
