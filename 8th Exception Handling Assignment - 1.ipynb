{
 "cells": [
  {
   "cell_type": "code",
   "execution_count": 1,
   "id": "da979690-634f-42ce-ac7d-c4469cfac399",
   "metadata": {},
   "outputs": [],
   "source": [
    "#Q1 - What is an Exception in python? Write the difference between Exceptions and syntax errors."
   ]
  },
  {
   "cell_type": "code",
   "execution_count": 2,
   "id": "935b5ed2-2a37-4568-beb8-30122722c2fb",
   "metadata": {},
   "outputs": [],
   "source": [
    "#_____ANSWER______\n",
    "\n",
    "#In Python, an Exception is a type of runtime error that occurs during the execution of a program. \n",
    "\n",
    "#Exceptions: They occur during the execution of a program when something unexpected happens, such as division by zero, attempting to access an invalid index, or calling a method on an incompatible data type.\n",
    "#Syntax Errors: They occur during the parsing stage before the program starts executing. They are caused by invalid Python syntax, such as missing colons, unmatched parentheses, or incorrect indentation."
   ]
  },
  {
   "cell_type": "code",
   "execution_count": 3,
   "id": "9b946d11-04a6-4715-9470-c50016befb84",
   "metadata": {},
   "outputs": [],
   "source": [
    "#Q2 - What happens when an exception is not handled? Explain with an example."
   ]
  },
  {
   "cell_type": "code",
   "execution_count": 4,
   "id": "e5d2e621-18c3-4ad5-b602-ba10653c0c74",
   "metadata": {},
   "outputs": [
    {
     "ename": "ZeroDivisionError",
     "evalue": "division by zero",
     "output_type": "error",
     "traceback": [
      "\u001b[0;31m---------------------------------------------------------------------------\u001b[0m",
      "\u001b[0;31mZeroDivisionError\u001b[0m                         Traceback (most recent call last)",
      "Cell \u001b[0;32mIn [4], line 10\u001b[0m\n\u001b[1;32m      7\u001b[0m \u001b[38;5;28;01mdef\u001b[39;00m \u001b[38;5;21mdivide_numbers\u001b[39m(a, b):\n\u001b[1;32m      8\u001b[0m     \u001b[38;5;28;01mreturn\u001b[39;00m a \u001b[38;5;241m/\u001b[39m b\n\u001b[0;32m---> 10\u001b[0m result \u001b[38;5;241m=\u001b[39m \u001b[43mdivide_numbers\u001b[49m\u001b[43m(\u001b[49m\u001b[38;5;241;43m10\u001b[39;49m\u001b[43m,\u001b[49m\u001b[43m \u001b[49m\u001b[38;5;241;43m0\u001b[39;49m\u001b[43m)\u001b[49m  \u001b[38;5;66;03m# Attempting to divide by zero\u001b[39;00m\n\u001b[1;32m     11\u001b[0m \u001b[38;5;28mprint\u001b[39m(\u001b[38;5;124m\"\u001b[39m\u001b[38;5;124mResult:\u001b[39m\u001b[38;5;124m\"\u001b[39m, result)\n",
      "Cell \u001b[0;32mIn [4], line 8\u001b[0m, in \u001b[0;36mdivide_numbers\u001b[0;34m(a, b)\u001b[0m\n\u001b[1;32m      7\u001b[0m \u001b[38;5;28;01mdef\u001b[39;00m \u001b[38;5;21mdivide_numbers\u001b[39m(a, b):\n\u001b[0;32m----> 8\u001b[0m     \u001b[38;5;28;01mreturn\u001b[39;00m \u001b[43ma\u001b[49m\u001b[43m \u001b[49m\u001b[38;5;241;43m/\u001b[39;49m\u001b[43m \u001b[49m\u001b[43mb\u001b[49m\n",
      "\u001b[0;31mZeroDivisionError\u001b[0m: division by zero"
     ]
    }
   ],
   "source": [
    "#_____ANSWER______\n",
    "\n",
    "#When an exception is not handled in Python, it leads to a situation called an \"unhandled exception.\n",
    "\n",
    "# _____E.g______\n",
    "\n",
    "def divide_numbers(a, b):\n",
    "    return a / b\n",
    "\n",
    "result = divide_numbers(10, 0)  # Attempting to divide by zero\n",
    "print(\"Result:\", result)\n",
    "\n",
    "#In this example, we have a function divide_numbers(a, b) that takes two arguments a and b and returns the result of the division a / b. \n",
    "#Inside the main part of the code, we call this function with the arguments 10 and 0, which will raise a ZeroDivisionError since we are trying to divide by zero."
   ]
  },
  {
   "cell_type": "code",
   "execution_count": 5,
   "id": "3c37c2bf-0fd4-4185-b354-8708cd95d669",
   "metadata": {},
   "outputs": [],
   "source": [
    "#Q3 - Which python statements are used to catch and handle exceptions? Explain with and example."
   ]
  },
  {
   "cell_type": "code",
   "execution_count": 6,
   "id": "3bb0d6df-a96a-4991-83b6-d146b89e2039",
   "metadata": {},
   "outputs": [],
   "source": [
    "#_____ANSWER______\n",
    "\n",
    "#In Python, the statements used to catch and handle exceptions are try, except, else, and optionally finally."
   ]
  },
  {
   "cell_type": "code",
   "execution_count": 7,
   "id": "2aabc1d7-bc39-45ec-8bb5-6650cc310682",
   "metadata": {},
   "outputs": [
    {
     "name": "stdout",
     "output_type": "stream",
     "text": [
      "Example 1:\n",
      "Error: division by zero\n",
      "This block always executes.\n",
      "Result: None\n",
      "\n",
      "Example 2:\n",
      "Division successful!\n",
      "This block always executes.\n",
      "Result: 5.0\n"
     ]
    }
   ],
   "source": [
    "def divide_numbers(a, b):\n",
    "    try:\n",
    "        result = a / b\n",
    "    except ZeroDivisionError as e:\n",
    "        print(\"Error:\", e)\n",
    "        result = None\n",
    "    else:\n",
    "        print(\"Division successful!\")\n",
    "    finally:\n",
    "        print(\"This block always executes.\")\n",
    "\n",
    "    return result\n",
    "\n",
    "# Example 1: Division by zero\n",
    "print(\"Example 1:\")\n",
    "result1 = divide_numbers(10, 0)\n",
    "print(\"Result:\", result1)\n",
    "\n",
    "# Example 2: Valid division\n",
    "print(\"\\nExample 2:\")\n",
    "result2 = divide_numbers(10, 2)\n",
    "print(\"Result:\", result2)"
   ]
  },
  {
   "cell_type": "code",
   "execution_count": 8,
   "id": "388cab69-0de7-43e1-8dcb-8b66f4a08b97",
   "metadata": {},
   "outputs": [],
   "source": [
    "#Q4 - Explain with an example :\n",
    "#a.try and else\n",
    "#b.finally\n",
    "#c.raise"
   ]
  },
  {
   "cell_type": "code",
   "execution_count": 9,
   "id": "f8f45f39-3e6a-4945-bc73-5b042cb94cca",
   "metadata": {},
   "outputs": [
    {
     "name": "stdout",
     "output_type": "stream",
     "text": [
      "Example 1:\n",
      "Error: division by zero\n",
      "Result: None\n",
      "\n",
      "Example 2:\n",
      "Division successful!\n",
      "Result: 5.0\n"
     ]
    }
   ],
   "source": [
    "#_____ANSWER______\n",
    "\n",
    "                                      #a.______try and else________\n",
    "    \n",
    "#In Python, the try and else blocks are used together to handle exceptions and specify code that should be executed only if no exception occurs in the try block. \n",
    "#The else block is optional and follows the except block(s).\n",
    "\n",
    "def divide_numbers(a, b):\n",
    "    try:\n",
    "        result = a / b\n",
    "    except ZeroDivisionError as e:\n",
    "        print(\"Error:\", e)\n",
    "        result = None\n",
    "    else:\n",
    "        print(\"Division successful!\")\n",
    "    return result\n",
    "\n",
    "# Example 1: Division by zero\n",
    "print(\"Example 1:\")\n",
    "result1 = divide_numbers(10, 0)\n",
    "print(\"Result:\", result1)\n",
    "\n",
    "# Example 2: Valid division\n",
    "print(\"\\nExample 2:\")\n",
    "result2 = divide_numbers(10, 2)\n",
    "print(\"Result:\", result2)\n"
   ]
  },
  {
   "cell_type": "code",
   "execution_count": 10,
   "id": "49e06422-c194-48ab-b25b-9f9a6a630a34",
   "metadata": {},
   "outputs": [
    {
     "name": "stdout",
     "output_type": "stream",
     "text": [
      "Example 1:\n",
      "Error: division by zero\n",
      "This block always executes.\n",
      "Result: None\n",
      "\n",
      "Example 2:\n",
      "Division successful!\n",
      "This block always executes.\n",
      "Result: 5.0\n"
     ]
    }
   ],
   "source": [
    "                                         #b.______finally________\n",
    "    \n",
    "    \n",
    "#The finally block is used to specify code that must be executed, whether an exception occurred or not. \n",
    "#It provides a way to perform cleanup actions or ensure that certain code is always executed, regardless of exceptions. \n",
    "\n",
    "def divide_numbers(a, b):\n",
    "    try:\n",
    "        result = a / b\n",
    "    except ZeroDivisionError as e:\n",
    "        print(\"Error:\", e)\n",
    "        result = None\n",
    "    else:\n",
    "        print(\"Division successful!\")\n",
    "    finally:\n",
    "        print(\"This block always executes.\")\n",
    "    return result\n",
    "\n",
    "# Example 1: Division by zero\n",
    "print(\"Example 1:\")\n",
    "result1 = divide_numbers(10, 0)\n",
    "print(\"Result:\", result1)\n",
    "\n",
    "# Example 2: Valid division\n",
    "print(\"\\nExample 2:\")\n",
    "result2 = divide_numbers(10, 2)\n",
    "print(\"Result:\", result2)\n"
   ]
  },
  {
   "cell_type": "code",
   "execution_count": 11,
   "id": "8d2642c7-14b4-42c6-9f79-8b4f97f883ae",
   "metadata": {},
   "outputs": [
    {
     "name": "stdout",
     "output_type": "stream",
     "text": [
      "Error: Age cannot be negative.\n"
     ]
    }
   ],
   "source": [
    "                                                   #c.______raise________\n",
    "    \n",
    "    \n",
    "#The raise keyword is used to explicitly raise an exception in Python. \n",
    "#It allows you to create custom exceptions or re-raise caught exceptions to propagate them up the call stack\n",
    "\n",
    "def calculate_age(age):\n",
    "    if age < 0:\n",
    "        raise ValueError(\"Age cannot be negative.\")\n",
    "    return age\n",
    "\n",
    "try:\n",
    "    age = calculate_age(-5)\n",
    "except ValueError as ve:\n",
    "    print(\"Error:\", ve)"
   ]
  },
  {
   "cell_type": "code",
   "execution_count": 12,
   "id": "cd101da6-150a-4076-b3db-98a4e098bfb3",
   "metadata": {},
   "outputs": [],
   "source": [
    "#Q5. What are Custom Exceptions in python?Why do we need Custom Exceptions? Explain with an example.        "
   ]
  },
  {
   "cell_type": "code",
   "execution_count": 13,
   "id": "b031e7f8-b6f1-4d8e-93de-381c7607e589",
   "metadata": {},
   "outputs": [],
   "source": [
    "#_____ANSWER______\n",
    "    \n",
    "#In Python, custom exceptions are user-defined exception classes that allow developers to create their own specialized exceptions based on specific criteria or requirements.\n",
    "#These exceptions extend the built-in Exception class or its subclasses and can be used to handle exceptional situations that are unique to the application's domain or logic.\n",
    "#We need custom exceptions in Python for the following reasons\n",
    "#Specific Error Handling , Clarity and Readability , Code Organization , & Error Propagation"
   ]
  },
  {
   "cell_type": "code",
   "execution_count": 14,
   "id": "f8a110a9-6238-42c7-84ac-ce659246f53a",
   "metadata": {},
   "outputs": [
    {
     "name": "stdout",
     "output_type": "stream",
     "text": [
      "Error: Insufficient funds. Current balance: 1000, Attempted withdrawal: 1500\n"
     ]
    }
   ],
   "source": [
    "class InsufficientFundsError(Exception):\n",
    "    def __init__(self, balance, amount):\n",
    "        self.balance = balance\n",
    "        self.amount = amount\n",
    "\n",
    "    def __str__(self):\n",
    "        return f\"Insufficient funds. Current balance: {self.balance}, Attempted withdrawal: {self.amount}\"\n",
    "\n",
    "def withdraw_from_account(balance, amount):\n",
    "    if amount > balance:\n",
    "        raise InsufficientFundsError(balance, amount)\n",
    "    return balance - amount\n",
    "\n",
    "try:\n",
    "    account_balance = 1000\n",
    "    withdrawal_amount = 1500\n",
    "    new_balance = withdraw_from_account(account_balance, withdrawal_amount)\n",
    "    print(f\"Withdrawal successful. New balance: {new_balance}\")\n",
    "except InsufficientFundsError as ife:\n",
    "    print(\"Error:\", ife)"
   ]
  },
  {
   "cell_type": "code",
   "execution_count": 15,
   "id": "f611c22f-4f34-4e01-aded-58f50074b4cb",
   "metadata": {},
   "outputs": [],
   "source": [
    "#Q6. Create a custom exception class. Use this class to handle an exception."
   ]
  },
  {
   "cell_type": "code",
   "execution_count": 16,
   "id": "b487663f-4111-4c30-8764-8258e1e9cc6c",
   "metadata": {},
   "outputs": [
    {
     "name": "stdout",
     "output_type": "stream",
     "text": [
      "Error: Invalid input: Division by zero is not allowed.\n"
     ]
    }
   ],
   "source": [
    "#_____ANSWER______\n",
    "\n",
    "#Create a custom exception class called InvalidInputError and use it to handle an exception when invalid input is provided.\n",
    "\n",
    "class InvalidInputError(Exception):\n",
    "    def __init__(self, input_value):\n",
    "        self.input_value = input_value\n",
    "\n",
    "    def __str__(self):\n",
    "        return f\"Invalid input: {self.input_value}\"\n",
    "\n",
    "def divide_numbers(a, b):\n",
    "    if b == 0:\n",
    "        raise InvalidInputError(\"Division by zero is not allowed.\")\n",
    "    return a / b\n",
    "\n",
    "try:\n",
    "    num1 = 10\n",
    "    num2 = 0\n",
    "    result = divide_numbers(num1, num2)\n",
    "    print(f\"Result: {result}\")\n",
    "except InvalidInputError as iie:\n",
    "    print(\"Error:\", iie)\n"
   ]
  }
 ],
 "metadata": {
  "kernelspec": {
   "display_name": "Python 3 (ipykernel)",
   "language": "python",
   "name": "python3"
  },
  "language_info": {
   "codemirror_mode": {
    "name": "ipython",
    "version": 3
   },
   "file_extension": ".py",
   "mimetype": "text/x-python",
   "name": "python",
   "nbconvert_exporter": "python",
   "pygments_lexer": "ipython3",
   "version": "3.10.6"
  }
 },
 "nbformat": 4,
 "nbformat_minor": 5
}
