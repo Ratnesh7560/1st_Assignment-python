{
 "cells": [
  {
   "cell_type": "code",
   "execution_count": 82,
   "id": "cc6899f1-333f-4524-bcf4-606f8ef46e0a",
   "metadata": {},
   "outputs": [],
   "source": [
    "#Q1. Explain Class and Object with respect to Object-Oriented Programming. Give a suitable example.\n",
    "\n",
    "# **********ANSWER*************\n",
    "\n",
    "#In object-oriented programming a class is a blueprint or a template that defines the properties and behaviors of a particular type of object.\n",
    "#It serves as a blueprint for creating individual objects of that class. An object, on the other hand, is an instance of a class. \n",
    "#It represents a specific entity with its own unique state and behavior.\n",
    "\n",
    "# ************ EXAMPLE **************\n",
    "\n",
    "class car :\n",
    "    def __init__(self , color , brand , model):\n",
    "        self.color = color\n",
    "        self.brand = brand\n",
    "        self.model = model\n",
    "        \n",
    "    def access(self):\n",
    "        print(self.color , self.brand , self.model)\n",
    "        \n",
    "    def msg_buyer():\n",
    "        print(\"Good choice\")"
   ]
  },
  {
   "cell_type": "code",
   "execution_count": 83,
   "id": "20cc0733-4f8f-4611-8881-2493a4c778ba",
   "metadata": {},
   "outputs": [],
   "source": [
    "#creating obj of car class\n",
    "\n",
    "car1 = car(\"red\" , \"audi\" , 300)"
   ]
  },
  {
   "cell_type": "code",
   "execution_count": 84,
   "id": "e7f716d3-aeb6-4da8-9c0a-ff33bb63dd4f",
   "metadata": {},
   "outputs": [
    {
     "data": {
      "text/plain": [
       "'red'"
      ]
     },
     "execution_count": 84,
     "metadata": {},
     "output_type": "execute_result"
    }
   ],
   "source": [
    "# accessing obj attributes\n",
    "\n",
    "car1.color"
   ]
  },
  {
   "cell_type": "code",
   "execution_count": 85,
   "id": "57cf749a-b587-4ec7-85e2-9c2f7d1cf676",
   "metadata": {},
   "outputs": [
    {
     "name": "stdout",
     "output_type": "stream",
     "text": [
      "Good choice\n"
     ]
    }
   ],
   "source": [
    "car.msg_buyer()"
   ]
  },
  {
   "cell_type": "code",
   "execution_count": 86,
   "id": "f7c82483-a0d9-4e6b-9b80-73f9f7a0c3d9",
   "metadata": {},
   "outputs": [],
   "source": [
    "# Q2. Name the four pillars of OOPs.\n",
    "\n",
    "# **********ANSWER*************\n",
    "\n",
    "# 1-Abstraction \n",
    "# 2-Encapsulation\n",
    "# 3-Inheritance and \n",
    "# 4-polymorphism"
   ]
  },
  {
   "cell_type": "code",
   "execution_count": 97,
   "id": "ab82c3a3-996e-4b45-9abb-b2ce03c69699",
   "metadata": {},
   "outputs": [],
   "source": [
    "#Q3. Explain why the __init__() function is used. Give a suitable example.\n",
    "\n",
    "# **********ANSWER*************\n",
    "\n",
    "# The _init_() function is a special method in Python classes that is automatically called when an object is created from a class.\n",
    "# It stands for \"initialize\" and is used to initialize the attributes of the object with the provided values or default values. \n",
    "# This method allows you to set up the initial state of an object and perform any necessary setup or initialization tasks.\n",
    "\n",
    "# ************ EXAMPLE **************\n",
    "\n",
    "class student :\n",
    "    def __init__(self , name , age , stream):  \n",
    "        self.name = name\n",
    "        self.age = age\n",
    "        self.stream = stream\n",
    "        \n",
    "    def introduce(self):\n",
    "        print(f\"hello my name is {self.name} , i am {self.age} years old and currently i am in {self.stream}.\") \n",
    "        \n",
    "# in the e.g __init__ method is defined within the student class , it takes 3 parameters 'name' , 'age' & 'stream' which are used to \n",
    "# initialize the name age & stream ."
   ]
  },
  {
   "cell_type": "code",
   "execution_count": 98,
   "id": "757001e7-ddbd-4d54-a4d9-4a3ed3b04097",
   "metadata": {},
   "outputs": [],
   "source": [
    "student1 = student(\"ratnesh\" , 28 , \"science\")"
   ]
  },
  {
   "cell_type": "code",
   "execution_count": 99,
   "id": "276ced1d-ee9b-4f72-a3aa-914a5fc3d5d7",
   "metadata": {},
   "outputs": [
    {
     "name": "stdout",
     "output_type": "stream",
     "text": [
      "hello my name is ratnesh , i am 28 years old and currently i am in science.\n"
     ]
    }
   ],
   "source": [
    "student1.introduce()"
   ]
  },
  {
   "cell_type": "code",
   "execution_count": 100,
   "id": "ee68bd13-850f-413e-8aeb-c46989184d47",
   "metadata": {},
   "outputs": [],
   "source": [
    "#Q4. Why self is used in OOPs?\n",
    "\n",
    "# **********ANSWER*************\n",
    "\n",
    "# In object-oriented programming (OOP), the self keyword is used to refer to the instance of a class.\n",
    "# It is a convention in Python to use self as the first parameter in method definitions within a class. \n",
    "# It acts as a reference to the current object that is being manipulated or accessed."
   ]
  },
  {
   "cell_type": "code",
   "execution_count": 101,
   "id": "9fed6363-2d00-423b-bf1d-ce01179e0e0f",
   "metadata": {},
   "outputs": [],
   "source": [
    "# Q5. What is inheritance? Give an example for each type of inheritance.\n",
    "\n",
    "# **********ANSWER*************\n",
    "\n",
    "# Inheritance is a fundamental concept in object-oriented programming (OOP) that allows a class to inherit properties and behaviors from another class. \n",
    "# It is a mechanism that enables code reuse and the creation of a hierarchy of classes.\n",
    "# Inheritance involves creating a new class, called the derived class or subclass, from an existing class, known as the base class or superclass. \n",
    "# The derived class inherits all the attributes and methods of the base class and can also add its own attributes and methods or override the inherited ones."
   ]
  },
  {
   "cell_type": "code",
   "execution_count": 108,
   "id": "41d98b16-4d91-4de5-ae1e-4fe906e2c52c",
   "metadata": {},
   "outputs": [],
   "source": [
    "# There are differenr types of inheritance in Opp :\n",
    "\n",
    "# 1. Single Inheritance\n",
    "\n",
    "class animal:\n",
    "    def eat(self):\n",
    "        print(\"animal is eating.\")\n",
    "        \n",
    "class dog(animal):\n",
    "    def bark(self):\n",
    "        print(\"dog is barking.\")"
   ]
  },
  {
   "cell_type": "code",
   "execution_count": 109,
   "id": "c6a1944b-8fd6-4536-98e9-54e0de617ed7",
   "metadata": {},
   "outputs": [],
   "source": [
    "dog = dog()"
   ]
  },
  {
   "cell_type": "code",
   "execution_count": 110,
   "id": "7f047779-e2df-4a34-9856-b9ab606b0467",
   "metadata": {},
   "outputs": [
    {
     "name": "stdout",
     "output_type": "stream",
     "text": [
      "animal is eating.\n",
      "dog is barking.\n"
     ]
    }
   ],
   "source": [
    "dog.eat() \n",
    "dog.bark()"
   ]
  },
  {
   "cell_type": "code",
   "execution_count": 105,
   "id": "03dcc28e-2e3d-4417-a2c9-9607dbf71bff",
   "metadata": {},
   "outputs": [],
   "source": [
    "# 2. Multiple Inheritance\n",
    "\n",
    "class flyable:\n",
    "    def fly(self):\n",
    "        print(\"i am flying.\")\n",
    "        \n",
    "class swimmable:\n",
    "    def swim(self):\n",
    "        print(\"i am swimming.\")\n",
    "        \n",
    "class duck(flyable , swimmable):\n",
    "    def quack(self):\n",
    "        print(\"Quack\")"
   ]
  },
  {
   "cell_type": "code",
   "execution_count": 111,
   "id": "7ad44d01-c971-4f09-a075-69c236d8c897",
   "metadata": {},
   "outputs": [],
   "source": [
    "duck = duck()"
   ]
  },
  {
   "cell_type": "code",
   "execution_count": 112,
   "id": "b599892d-0bd3-45da-a426-368b69aa5c72",
   "metadata": {},
   "outputs": [
    {
     "name": "stdout",
     "output_type": "stream",
     "text": [
      "i am flying.\n",
      "i am swimming.\n",
      "Quack\n"
     ]
    }
   ],
   "source": [
    "duck.fly()\n",
    "duck.swim()\n",
    "duck.quack()"
   ]
  },
  {
   "cell_type": "code",
   "execution_count": 113,
   "id": "92b9f0d6-61e4-4328-9616-06e298520369",
   "metadata": {},
   "outputs": [],
   "source": [
    "# 3. Multilevel Inheritance\n",
    "\n",
    "class Animal:\n",
    "    def eat(self):\n",
    "        print(\"Animal is eating.\")\n",
    "        \n",
    "class Dog(Animal):\n",
    "    def bark(self):\n",
    "        print(\"Dog is barking.\")\n",
    "        \n",
    "class Bulldog(Dog):\n",
    "    def guard(self):\n",
    "        print(\"Bulldog is guarding.\")"
   ]
  },
  {
   "cell_type": "code",
   "execution_count": 114,
   "id": "5a268b8b-3c90-4d63-92b4-e8e5fc49b5cf",
   "metadata": {},
   "outputs": [],
   "source": [
    "bulldog = Bulldog()"
   ]
  },
  {
   "cell_type": "code",
   "execution_count": 115,
   "id": "e61de384-bb48-46dc-a948-c5667d4d9f34",
   "metadata": {},
   "outputs": [
    {
     "name": "stdout",
     "output_type": "stream",
     "text": [
      "Animal is eating.\n",
      "Dog is barking.\n",
      "Bulldog is guarding.\n"
     ]
    }
   ],
   "source": [
    "bulldog.eat()\n",
    "bulldog.bark()\n",
    "bulldog.guard()"
   ]
  }
 ],
 "metadata": {
  "kernelspec": {
   "display_name": "Python 3 (ipykernel)",
   "language": "python",
   "name": "python3"
  },
  "language_info": {
   "codemirror_mode": {
    "name": "ipython",
    "version": 3
   },
   "file_extension": ".py",
   "mimetype": "text/x-python",
   "name": "python",
   "nbconvert_exporter": "python",
   "pygments_lexer": "ipython3",
   "version": "3.10.6"
  }
 },
 "nbformat": 4,
 "nbformat_minor": 5
}
